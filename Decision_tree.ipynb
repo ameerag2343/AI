{
  "nbformat": 4,
  "nbformat_minor": 0,
  "metadata": {
    "colab": {
      "provenance": [],
      "authorship_tag": "ABX9TyOtTVeuVdpm2dx67Bl7GHwC"
    },
    "kernelspec": {
      "name": "python3",
      "display_name": "Python 3"
    },
    "language_info": {
      "name": "python"
    }
  },
  "cells": [
    {
      "cell_type": "code",
      "execution_count": 9,
      "metadata": {
        "id": "mvxrL8CuczjJ"
      },
      "outputs": [],
      "source": [
        "import numpy as np\n",
        "import pandas as pd\n",
        "from sklearn.tree import DecisionTreeClassifier, export_graphviz\n",
        "from sklearn.datasets import load_iris\n",
        "from sklearn.model_selection import train_test_split\n",
        "from sklearn.metrics import accuracy_score\n",
        "import graphviz\n",
        "\n"
      ]
    },
    {
      "cell_type": "code",
      "source": [
        "# Load dataset\n",
        "data = load_iris()\n",
        "X = data.data\n",
        "y = data.target\n",
        "\n",
        "# Split the data into training and testing sets\n",
        "X_train, X_test, y_train, y_test = train_test_split(X, y, test_size=0.3, random_state=42)\n",
        "\n",
        "# Create and train the decision tree classifier\n",
        "clf = DecisionTreeClassifier(criterion='entropy')  # Using entropy for information gain\n",
        "clf.fit(X_train, y_train)\n",
        "\n",
        "# Make predictions\n",
        "y_pred = clf.predict(X_test)\n",
        "\n",
        "# Evaluate accuracy\n",
        "accuracy = accuracy_score(y_test, y_pred)\n",
        "print(f'Accuracy: {accuracy:.2f}')"
      ],
      "metadata": {
        "colab": {
          "base_uri": "https://localhost:8080/"
        },
        "id": "x3aR5X3reJlR",
        "outputId": "82201b39-3ca6-44f2-9a91-1b2f32518701"
      },
      "execution_count": 10,
      "outputs": [
        {
          "output_type": "stream",
          "name": "stdout",
          "text": [
            "Accuracy: 1.00\n"
          ]
        }
      ]
    },
    {
      "cell_type": "code",
      "source": [
        "\n",
        "\n",
        "# 6. Visualize the decision tree (optional)\n",
        "dot_data = export_graphviz(clf, out_file=None, feature_names=data.feature_names, class_names=data.target_names, filled=True)\n",
        "graph = graphviz.Source(dot_data)\n",
        "graph.render(\"iris_decision_tree\", view=True)\n",
        "\n"
      ],
      "metadata": {
        "colab": {
          "base_uri": "https://localhost:8080/",
          "height": 35
        },
        "id": "QIg49bpYecXK",
        "outputId": "a3ad3f64-6590-4150-a2c0-439a724c79d5"
      },
      "execution_count": 11,
      "outputs": [
        {
          "output_type": "execute_result",
          "data": {
            "text/plain": [
              "'iris_decision_tree.pdf'"
            ],
            "application/vnd.google.colaboratory.intrinsic+json": {
              "type": "string"
            }
          },
          "metadata": {},
          "execution_count": 11
        }
      ]
    },
    {
      "cell_type": "markdown",
      "source": [
        "Explanation:\n",
        "Loading the Data: We load the Iris dataset using load_iris() from sklearn.datasets. This dataset is already included in Scikit-learn, so you don't need to manually load it from a file.\n",
        "\n",
        "Splitting the Data: We split the dataset into training and testing sets using train_test_split(). We set aside 30% of the data for testing and use the remaining 70% for training.\n",
        "\n",
        "Training the Decision Tree: We use the DecisionTreeClassifier() from Scikit-learn to create a decision tree classifier. We specify the criterion='entropy', which tells the model to use entropy (information gain) for splitting the data. The model is then trained using the training data (X_train, y_train).\n",
        "\n",
        "Making Predictions: After training the model, we use the test set (X_test) to predict the species of flowers. We store the predictions in y_pred.\n",
        "\n",
        "Evaluating the Model: We calculate the accuracy of the model by comparing the predicted values (y_pred) to the actual test values (y_test).\n",
        "\n",
        "Visualizing the Decision Tree (optional): We can visualize the trained decision tree using export_graphviz() to create a .dot file. This file can be rendered into a graphical format using graphviz."
      ],
      "metadata": {
        "id": "lQtrRMjaftce"
      }
    },
    {
      "cell_type": "code",
      "source": [],
      "metadata": {
        "id": "bcAFt5ncgkz7"
      },
      "execution_count": 17,
      "outputs": []
    }
  ]
}